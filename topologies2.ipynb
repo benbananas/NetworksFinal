{
 "cells": [
  {
   "cell_type": "code",
   "execution_count": null,
   "metadata": {},
   "outputs": [],
   "source": [
    "import networkx as nx\n",
    "import pandas as pd\n",
    "import os\n",
    "import gurobipy as gp\n",
    "from gurobipy import GRB\n",
    "import numpy as np\n",
    "import matplotlib.pyplot as plt\n",
    "import random\n",
    "from itertools import islice\n",
    "import time\n",
    "from all_forms import all_formulations"
   ]
  },
  {
   "cell_type": "code",
   "execution_count": null,
   "metadata": {},
   "outputs": [],
   "source": [
    "# read demands\n",
    "demand = open('Sprint/demand.txt', 'r')\n",
    "lines = demand.readlines()\n",
    "demands = []\n",
    "\n",
    "for line in lines:\n",
    "    demands.append(line.split())\n",
    "\n",
    "demands = np.array(demands, dtype = float)\n",
    "demands = np.max(demands, axis=0) #use the maximum demand over all times (rows) for each node-node pair\n",
    "\n",
    "#demand = [float(i) for i in line.split()]\n",
    "# n = int(len(demands)**0.5)\n",
    "# demand = np.array(demands).reshape(n, n)\n",
    "\n",
    "# np.fill_diagonal(demand, 0) #demand from a node to itself should be 0"
   ]
  },
  {
   "cell_type": "code",
   "execution_count": null,
   "metadata": {},
   "outputs": [],
   "source": [
    "def createGraph(n):\n",
    "  edges = []\n",
    "  cap = 1000000000\n",
    "  for i in range(n-1):\n",
    "      edges.append((int(i), int(i+1), int(cap)))\n",
    "  edges.append((int(0), int(n-1), int(cap)))\n",
    "  for i in range(n):\n",
    "    for j in range(2):\n",
    "      node = (i + random.randint(1, n-1)) % n\n",
    "      tail = min(i, node)\n",
    "      head = max(i, node)\n",
    "      if (int(tail), int(head), int(cap)) not in edges:\n",
    "          edges.append((int(tail), int(head), int(cap)))\n",
    "\n",
    "  # generate graph\n",
    "  G = nx.Graph()\n",
    "  G.add_weighted_edges_from(edges)\n",
    "\n",
    "  return G"
   ]
  },
  {
   "cell_type": "code",
   "execution_count": null,
   "metadata": {},
   "outputs": [],
   "source": [
    "def k_shortest_paths(G, source, target, k, weight=None):\n",
    "    return list(\n",
    "        islice(nx.shortest_simple_paths(G, source, target, weight=weight), k)\n",
    "    )"
   ]
  },
  {
   "cell_type": "code",
   "execution_count": null,
   "metadata": {},
   "outputs": [],
   "source": [
    "def getDemand(n):\n",
    "  newDemand = demands[np.random.choice(range(len(demands)), n**2)]\n",
    "  newDemand = np.array(newDemand).reshape(n, n)\n",
    "  np.fill_diagonal(newDemand, 0)\n",
    "  return newDemand"
   ]
  },
  {
   "cell_type": "code",
   "execution_count": null,
   "metadata": {},
   "outputs": [],
   "source": [
    "res = {'maxThroughput' : [], 'minMLUObj' : [], 'minMLUConstraint': []}"
   ]
  },
  {
   "cell_type": "code",
   "execution_count": null,
   "metadata": {},
   "outputs": [],
   "source": [
    "G5 = createGraph(5)\n",
    "demand5 = getDemand(5)\n",
    "runtime5_maxThroughput, runtime5_minMLUObj, runtime5_minMLUConstraint = all_formulations(G5, demand5, 5)\n",
    "\n",
    "res['maxThroughput'].append(runtime5_maxThroughput)\n",
    "res['minMLUObj'].append(runtime5_minMLUObj)\n",
    "res['minMLUConstraint'].append(runtime5_minMLUConstraint)"
   ]
  },
  {
   "cell_type": "code",
   "execution_count": null,
   "metadata": {},
   "outputs": [],
   "source": [
    "G10 = createGraph(10)\n",
    "demand10 = getDemand(10)\n",
    "runtime10_maxThroughput, runtime10_minMLUObj, runtime10_minMLUConstraint = all_formulations(G10, demand10, 10)\n",
    "\n",
    "res['maxThroughput'].append(runtime10_maxThroughput)\n",
    "res['minMLUObj'].append(runtime10_minMLUObj)\n",
    "res['minMLUConstraint'].append(runtime10_minMLUConstraint)"
   ]
  },
  {
   "cell_type": "code",
   "execution_count": null,
   "metadata": {},
   "outputs": [],
   "source": [
    "G25 = createGraph(25)\n",
    "demand25 = getDemand(25)\n",
    "runtime25_maxThroughput, runtime25_minMLUObj, runtime25_minMLUConstraint = all_formulations(G25, demand25, 25)\n",
    "\n",
    "res['maxThroughput'].append(runtime25_maxThroughput)\n",
    "res['minMLUObj'].append(runtime25_minMLUObj)\n",
    "res['minMLUConstraint'].append(runtime25_minMLUConstraint)"
   ]
  },
  {
   "cell_type": "code",
   "execution_count": null,
   "metadata": {},
   "outputs": [],
   "source": [
    "G50 = createGraph(50)\n",
    "demand50 = getDemand(50)\n",
    "runtime50_maxThroughput, runtime50_minMLUObj, runtime50_minMLUConstraint = all_formulations(G50, demand50, 50)\n",
    "\n",
    "\n",
    "res['maxThroughput'].append(runtime50_maxThroughput)\n",
    "res['minMLUObj'].append(runtime50_minMLUObj)\n",
    "res['minMLUConstraint'].append(runtime50_minMLUConstraint)"
   ]
  },
  {
   "cell_type": "code",
   "execution_count": null,
   "metadata": {},
   "outputs": [],
   "source": [
    "G100 = createGraph(100)\n",
    "demand100 = getDemand(100)\n",
    "runtime100_maxThroughput, runtime100_minMLUObj, runtime100_minMLUConstraint = all_formulations(G100, demand100, 100)\n",
    "\n",
    "\n",
    "res['maxThroughput'].append(runtime100_maxThroughput)\n",
    "res['minMLUObj'].append(runtime100_minMLUObj)\n",
    "res['minMLUConstraint'].append(runtime100_minMLUConstraint)"
   ]
  },
  {
   "cell_type": "code",
   "execution_count": null,
   "metadata": {},
   "outputs": [],
   "source": [
    "pd.DataFrame(res).to_csv('time_results.csv')"
   ]
  },
  {
   "cell_type": "code",
   "execution_count": null,
   "metadata": {},
   "outputs": [],
   "source": []
  }
 ],
 "metadata": {
  "interpreter": {
   "hash": "e047859c05ceb3244b83bfedfb5eb9b6c4c05d63b4b9839875e8160a79653c1a"
  },
  "kernelspec": {
   "display_name": "Python 3.7.11 ('base')",
   "language": "python",
   "name": "python3"
  },
  "language_info": {
   "codemirror_mode": {
    "name": "ipython",
    "version": 3
   },
   "file_extension": ".py",
   "mimetype": "text/x-python",
   "name": "python",
   "nbconvert_exporter": "python",
   "pygments_lexer": "ipython3",
   "version": "3.10.2"
  },
  "orig_nbformat": 4
 },
 "nbformat": 4,
 "nbformat_minor": 2
}
